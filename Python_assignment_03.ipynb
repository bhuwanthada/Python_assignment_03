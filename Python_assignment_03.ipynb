{
  "nbformat": 4,
  "nbformat_minor": 0,
  "metadata": {
    "colab": {
      "name": "Python_assignment_03",
      "provenance": [],
      "collapsed_sections": [],
      "authorship_tag": "ABX9TyN+JLJKp5Vj/JjHxylWMHN/",
      "include_colab_link": true
    },
    "kernelspec": {
      "name": "python3",
      "display_name": "Python 3"
    }
  },
  "cells": [
    {
      "cell_type": "markdown",
      "metadata": {
        "id": "view-in-github",
        "colab_type": "text"
      },
      "source": [
        "<a href=\"https://colab.research.google.com/github/bhuwanthada/Python_assignment_03/blob/master/Python_assignment_03.ipynb\" target=\"_parent\"><img src=\"https://colab.research.google.com/assets/colab-badge.svg\" alt=\"Open In Colab\"/></a>"
      ]
    },
    {
      "cell_type": "markdown",
      "metadata": {
        "id": "hpRhpqdvWAlM",
        "colab_type": "text"
      },
      "source": [
        "1.1 Write a Python Program to implement your own myreduce() function which works exactly like Python's built-in function reduce() "
      ]
    },
    {
      "cell_type": "code",
      "metadata": {
        "id": "B6bOt3vWVwoB",
        "colab_type": "code",
        "colab": {
          "base_uri": "https://localhost:8080/",
          "height": 170
        },
        "outputId": "880f267e-6e76-47b7-f77c-9d98f3f69bbf"
      },
      "source": [
        "from functools import reduce\n",
        "l = [1,2,3,4,5,6,7]\n",
        "print(\"Result from Reduce sum Function:  \",reduce((lambda x,y: x+y),l))\n",
        "print(\"Result from Reduce sub Function:  \",reduce((lambda x,y: x-y),l))\n",
        "print(\"Result from Reduce mul Function:  \",reduce((lambda x,y: x*y),l))\n",
        "print(\"Result from Reduce div Function:  \",reduce((lambda x,y: x/y),l))\n",
        "\n",
        "def create_own_reduce_function(input_list,operation):\n",
        "  if operation == 'sum':\n",
        "    sum = 0\n",
        "    for num in input_list:\n",
        "      sum +=num\n",
        "    return sum\n",
        "  elif operation == 'sub':\n",
        "    sub = 0\n",
        "    for i in range(len(input_list)):\n",
        "      if i == 0:\n",
        "        sub = input_list[i]\n",
        "      else:\n",
        "        sub-= input_list[i]\n",
        "    return sub\n",
        "  elif operation == 'mul':\n",
        "    mul = 1\n",
        "    for i in input_list:\n",
        "      mul*=i\n",
        "    return mul\n",
        "  elif operation =='div':\n",
        "    try:\n",
        "      div = 1\n",
        "      for i in range(len(input_list)):\n",
        "        if i == 0:\n",
        "          div = input_list[i]\n",
        "        else:\n",
        "          div = (div/ input_list[i])\n",
        "      return div\n",
        "    except ZeroDivisionError as e:\n",
        "       return \"Can't divide number with 0.\"\n",
        "print(\"***\")\n",
        "res = create_own_reduce_function(l,'sum')\n",
        "print(\"Result Custom reduce sum function:\",res)\n",
        "res = create_own_reduce_function(l,'sub')\n",
        "print(\"Result Custom reduce sub function:\",res)\n",
        "res = create_own_reduce_function(l,'mul')\n",
        "print(\"Result Custom reduce mul function:\",res)\n",
        "res = create_own_reduce_function(l,'div')\n",
        "print(\"Result Custom reduce div function:\",res)\n",
        "\n"
      ],
      "execution_count": 57,
      "outputs": [
        {
          "output_type": "stream",
          "text": [
            "Result from Reduce sum Function:   28\n",
            "Result from Reduce sub Function:   -26\n",
            "Result from Reduce mul Function:   5040\n",
            "Result from Reduce div Function:   0.0001984126984126984\n",
            "***\n",
            "Result Custom reduce sum function: 28\n",
            "Result Custom reduce sub function: -26\n",
            "Result Custom reduce mul function: 5040\n",
            "Result Custom reduce div function: 0.0001984126984126984\n"
          ],
          "name": "stdout"
        }
      ]
    },
    {
      "cell_type": "markdown",
      "metadata": {
        "id": "2-WlgyCZSJs2",
        "colab_type": "text"
      },
      "source": [
        "1.2 Write a Python program to implement your own myfilter() function which works exactly like Python's built-in function filter() "
      ]
    },
    {
      "cell_type": "code",
      "metadata": {
        "id": "nh5plsKiI4aT",
        "colab_type": "code",
        "colab": {
          "base_uri": "https://localhost:8080/",
          "height": 136
        },
        "outputId": "b907672a-d181-4000-a803-470d2a20d7d2"
      },
      "source": [
        "l = [1,2,3,4,5]\n",
        "print(\"Filter function even_values:\",list(filter(lambda x: x%2==0,l)))\n",
        "print(\"Filter function odd_values: \",list(filter(lambda  x: x%2==1,l)))\n",
        "print(\"Filter function gtr_values: \",list(filter(lambda  x: x>3,l)))\n",
        "print(\"***\")\n",
        "print(\"Custom function even_values:\",list(x for x in l if x%2==0))\n",
        "print(\"Custom function odd_values: \",list(x for x in l if x%2==1))\n",
        "print(\"Custom function gtr_values: \",list(x for x in l if x>3))\n"
      ],
      "execution_count": 64,
      "outputs": [
        {
          "output_type": "stream",
          "text": [
            "Filter function even_values: [2, 4]\n",
            "Filter function odd_values:  [1, 3, 5]\n",
            "Filter function gtr_values:  [4, 5]\n",
            "***\n",
            "Custom function even_values: [2, 4]\n",
            "Custom function odd_values:  [1, 3, 5]\n",
            "Custom function gtr_values:  [4, 5]\n"
          ],
          "name": "stdout"
        }
      ]
    },
    {
      "cell_type": "markdown",
      "metadata": {
        "id": "-BXHUI8yTvaG",
        "colab_type": "text"
      },
      "source": [
        "2. Implement List comprehensions to produce the following lists. \n",
        "Write List comprehensions to produce the following Lists \n",
        "['A', 'C', 'A', 'D', 'G', 'I', ’L’, ‘ D’] \n",
        "['x', 'xx', 'xxx', 'xxxx', 'y', 'yy', 'yyy', 'yyyy', 'z', 'zz', 'zzz', 'zzzz'] \n",
        "['x', 'y', 'z', 'xx', 'yy', 'zz', 'xxx', 'yyy', 'zzz', 'xxxx', 'yyyy', 'zzzz'] \n",
        "[[2], [3], [4], [3], [4], [5], [4], [5], [6]] [[2, 3, 4, 5], [3, 4, 5, 6], \n"
      ]
    },
    {
      "cell_type": "code",
      "metadata": {
        "id": "HFP_WfsRTw43",
        "colab_type": "code",
        "colab": {
          "base_uri": "https://localhost:8080/",
          "height": 51
        },
        "outputId": "bbb048b9-d323-4044-8eee-5cca6e19ed53"
      },
      "source": [
        "# Write a pgm to print below result:\n",
        "# ['A', 'C', 'A', 'D', 'G', 'I', ’L’, ‘ D’] \n",
        "input_str = 'ACADGILD'\n",
        "print(\"Input_str:\",input_str)\n",
        "print(\"List_comprehension:\",list(input_str))"
      ],
      "execution_count": 72,
      "outputs": [
        {
          "output_type": "stream",
          "text": [
            "Input_str: ACADGILD\n",
            "List_comprehension: ['A', 'C', 'A', 'D', 'G', 'I', 'L', 'D']\n"
          ],
          "name": "stdout"
        }
      ]
    },
    {
      "cell_type": "code",
      "metadata": {
        "id": "bxlLa51PUf5l",
        "colab_type": "code",
        "colab": {
          "base_uri": "https://localhost:8080/",
          "height": 34
        },
        "outputId": "9df45091-1564-4f0d-ae54-737a99f3335b"
      },
      "source": [
        "# Write a pgm to print below result:\n",
        "# ['x', 'xx', 'xxx', 'xxxx', 'y', 'yy', 'yyy', 'yyyy', 'z', 'zz', 'zzz', 'zzzz']\n",
        "l = ['x','y','z']\n",
        "print(\"List_comprehension:\",list(i*j for i in l for j in range(1,5) ))"
      ],
      "execution_count": 75,
      "outputs": [
        {
          "output_type": "stream",
          "text": [
            "List_comprehension: ['x', 'xx', 'xxx', 'xxxx', 'y', 'yy', 'yyy', 'yyyy', 'z', 'zz', 'zzz', 'zzzz']\n"
          ],
          "name": "stdout"
        }
      ]
    },
    {
      "cell_type": "code",
      "metadata": {
        "id": "8tnHPXFEU9Dj",
        "colab_type": "code",
        "colab": {
          "base_uri": "https://localhost:8080/",
          "height": 34
        },
        "outputId": "93378ae5-7d1d-4029-8990-ec701bc6966c"
      },
      "source": [
        "# Write a pgm to print below result:\n",
        "# ['x', 'y', 'z', 'xx', 'yy', 'zz', 'xxx', 'yyy', 'zzz', 'xxxx', 'yyyy', 'zzzz']\n",
        "l = ['x','y','z']\n",
        "print(\"List_comprehension:\",list(i*j for i in range(1,5) for j in l))"
      ],
      "execution_count": 77,
      "outputs": [
        {
          "output_type": "stream",
          "text": [
            "List_comprehension: ['x', 'y', 'z', 'xx', 'yy', 'zz', 'xxx', 'yyy', 'zzz', 'xxxx', 'yyyy', 'zzzz']\n"
          ],
          "name": "stdout"
        }
      ]
    },
    {
      "cell_type": "code",
      "metadata": {
        "id": "15SCBMb0Vdv0",
        "colab_type": "code",
        "colab": {
          "base_uri": "https://localhost:8080/",
          "height": 34
        },
        "outputId": "ac09cb9a-ad18-4dad-e382-c28412605474"
      },
      "source": [
        "# Write a pgm to print below result:\n",
        "# [(1, 1), (2, 1), (3, 1), (1, 2), (2, 2), (3, 2), (1, 3), (2, 3), (3, 3)] \n",
        "print(\"List_comprehension:\",list((j,i) for i in range(1,4) for j in range(1,4)))"
      ],
      "execution_count": 79,
      "outputs": [
        {
          "output_type": "stream",
          "text": [
            "List_comprehension: [(1, 1), (2, 1), (3, 1), (1, 2), (2, 2), (3, 2), (1, 3), (2, 3), (3, 3)]\n"
          ],
          "name": "stdout"
        }
      ]
    },
    {
      "cell_type": "code",
      "metadata": {
        "id": "FtW3kaUpWC9x",
        "colab_type": "code",
        "colab": {
          "base_uri": "https://localhost:8080/",
          "height": 51
        },
        "outputId": "2f2cca4c-d309-4a4f-b514-725d6dc2a112"
      },
      "source": [
        "# Write a pgm to print below result:\n",
        "# [[2], [3], [4], [3], [4], [5], [4], [5], [6]] \n",
        "# [[2, 3, 4, 5], [3, 4, 5, 6],[4, 5, 6, 7], [5, 6, 7, 8]]\n",
        "print(\"List_comprehension:\",list([i]for i in '234345456'))\n",
        "print(\"List_comprehension:\",list([i for i in range(2+j,6+j)] for j in range(0,4)))"
      ],
      "execution_count": 91,
      "outputs": [
        {
          "output_type": "stream",
          "text": [
            "List_comprehension: [['2'], ['3'], ['4'], ['3'], ['4'], ['5'], ['4'], ['5'], ['6']]\n",
            "List_comprehension: [[2, 3, 4, 5], [3, 4, 5, 6], [4, 5, 6, 7], [5, 6, 7, 8]]\n"
          ],
          "name": "stdout"
        }
      ]
    }
  ]
}